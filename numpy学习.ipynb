{
  "nbformat": 4,
  "nbformat_minor": 0,
  "metadata": {
    "colab": {
      "name": "Untitled0.ipynb",
      "private_outputs": true,
      "provenance": [],
      "collapsed_sections": [],
      "authorship_tag": "ABX9TyOonzf/+U340cLZZ9oBij0x",
      "include_colab_link": true
    },
    "kernelspec": {
      "name": "python3",
      "display_name": "Python 3"
    },
    "language_info": {
      "name": "python"
    }
  },
  "cells": [
    {
      "cell_type": "markdown",
      "metadata": {
        "id": "view-in-github",
        "colab_type": "text"
      },
      "source": [
        "<a href=\"https://colab.research.google.com/github/ztxing462/jupyter-notebook/blob/main/numpy%E5%AD%A6%E4%B9%A0.ipynb\" target=\"_parent\"><img src=\"https://colab.research.google.com/assets/colab-badge.svg\" alt=\"Open In Colab\"/></a>"
      ]
    },
    {
      "cell_type": "code",
      "metadata": {
        "id": "r22S2lyVPpc3"
      },
      "source": [
        "import numpy as np"
      ],
      "execution_count": null,
      "outputs": []
    },
    {
      "cell_type": "markdown",
      "metadata": {
        "id": "IRZRq44GP27j"
      },
      "source": [
        "# Numpy 简单入门"
      ]
    },
    {
      "cell_type": "markdown",
      "metadata": {
        "id": "lFqOfWpZQAtK"
      },
      "source": [
        "## 数组创建"
      ]
    },
    {
      "cell_type": "code",
      "metadata": {
        "id": "YoGn9UILQGEE"
      },
      "source": [
        "a=np.array([0,1,2,3,4])\n",
        "b=np.array((0,1,2,3,4,))\n",
        "c=np.arange(5)\n",
        "d=np.linspace(0,2*np.pi,5)\n",
        "print(a)\n",
        "print(b)\n",
        "print(c)\n",
        "print(d)"
      ],
      "execution_count": null,
      "outputs": []
    },
    {
      "cell_type": "markdown",
      "metadata": {
        "id": "7tdd5-3Nm0mr"
      },
      "source": [
        "1. array() 是最基本的方法，中间用 [ ]/( ) 包裹着一个有序数列(即列表)\n"
      ]
    },
    {
      "cell_type": "code",
      "metadata": {
        "id": "3jTycKCCsBAX"
      },
      "source": [
        "a1=np.array(((1,2,3,4),(5,6,7,8)))\n",
        "a1"
      ],
      "execution_count": null,
      "outputs": []
    },
    {
      "cell_type": "markdown",
      "metadata": {
        "id": "VesqlXvmtq3V"
      },
      "source": [
        "还有几个用来占位的数组函数----zeros(),ones(),empty()"
      ]
    },
    {
      "cell_type": "code",
      "metadata": {
        "id": "cwqw0N0Wt78f"
      },
      "source": [
        "np.zeros((3,4))"
      ],
      "execution_count": null,
      "outputs": []
    },
    {
      "cell_type": "code",
      "metadata": {
        "id": "MVD57LYSuOrG"
      },
      "source": [
        "np.ones((2,3))"
      ],
      "execution_count": null,
      "outputs": []
    },
    {
      "cell_type": "code",
      "metadata": {
        "id": "YEe1iLsTuSQC"
      },
      "source": [
        "np.empty((4,5))"
      ],
      "execution_count": null,
      "outputs": []
    }
  ]
}